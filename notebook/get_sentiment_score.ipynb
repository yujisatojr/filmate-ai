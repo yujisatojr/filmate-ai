{
 "cells": [
  {
   "cell_type": "code",
   "execution_count": 4,
   "id": "d4966d53-2932-4192-a309-2d27f75122f5",
   "metadata": {},
   "outputs": [
    {
     "name": "stderr",
     "output_type": "stream",
     "text": [
      "[nltk_data] Downloading package punkt to /Users/yuji/nltk_data...\n",
      "[nltk_data]   Package punkt is already up-to-date!\n",
      "[nltk_data] Downloading package stopwords to /Users/yuji/nltk_data...\n",
      "[nltk_data]   Package stopwords is already up-to-date!\n",
      "[nltk_data] Downloading package vader_lexicon to\n",
      "[nltk_data]     /Users/yuji/nltk_data...\n"
     ]
    }
   ],
   "source": [
    "import nltk\n",
    "from nltk.sentiment import SentimentIntensityAnalyzer\n",
    "nltk.download('punkt')\n",
    "nltk.download('stopwords')\n",
    "nltk.download('vader_lexicon')\n",
    "\n",
    "analyzer = SentimentIntensityAnalyzer()"
   ]
  },
  {
   "cell_type": "code",
   "execution_count": 6,
   "id": "8e33b699-f47d-446b-a23e-c2f0169e1f63",
   "metadata": {},
   "outputs": [
    {
     "name": "stdout",
     "output_type": "stream",
     "text": [
      "{'neg': 0.035, 'neu': 0.921, 'pos': 0.044, 'compound': 0.128}\n"
     ]
    }
   ],
   "source": [
    "text = \"Led by Woody, Andy's toys live happily in his room until Andy's birthday brings Buzz Lightyear onto the scene. Afraid of losing his place in Andy's heart, Woody plots against Buzz. But when circumstances separate Buzz and Woody from their owner, the duo eventually learns to put aside their differences.\"\n",
    "scores = analyzer.polarity_scores(text)\n",
    "print(scores)"
   ]
  },
  {
   "cell_type": "code",
   "execution_count": 7,
   "id": "336d2a8c-275f-4f49-9451-60689c783ac4",
   "metadata": {},
   "outputs": [
    {
     "name": "stdout",
     "output_type": "stream",
     "text": [
      "{'neg': 0.032, 'neu': 0.877, 'pos': 0.091, 'compound': 0.8074}\n"
     ]
    }
   ],
   "source": [
    "text = \"84 years later, a 101-year-old woman named Rose DeWitt Bukater tells the story to her granddaughter Lizzy Calvert, Brock Lovett, Lewis Bodine, Bobby Buell and Anatoly Mikailavich on the Keldysh about her life set in April 10th 1912, on a ship called Titanic when young Rose boards the departing ship with the upper-class passengers and her mother, Ruth DeWitt Bukater, and her fianc√©, Caledon Hockley. Meanwhile, a drifter and artist named Jack Dawson and his best friend Fabrizio De Rossi win third-class tickets to the ship in a game. And she explains the whole story from departure until the death of Titanic on its first and last voyage April 15th, 1912 at 2:20 in the morning.\"\n",
    "scores = analyzer.polarity_scores(text)\n",
    "print(scores)"
   ]
  },
  {
   "cell_type": "code",
   "execution_count": 8,
   "id": "2d974af5-fb39-4d85-be67-4b575a82189e",
   "metadata": {},
   "outputs": [
    {
     "name": "stdout",
     "output_type": "stream",
     "text": [
      "{'neg': 0.108, 'neu': 0.768, 'pos': 0.123, 'compound': 0.166}\n"
     ]
    }
   ],
   "source": [
    "text = \"George Bailey has spent his entire life giving of himself to the people of Bedford Falls. He has always longed to travel but never had the opportunity in order to prevent rich skinflint Mr. Potter from taking over the entire town. All that prevents him from doing so is George's modest building and loan company, which was founded by his generous father. But on Christmas Eve, George's Uncle Billy loses the business's $8,000 while intending to deposit it in the bank. Potter finds the misplaced money, hides it from Billy, and George's troubles begin.\"\n",
    "scores = analyzer.polarity_scores(text)\n",
    "print(scores)"
   ]
  },
  {
   "cell_type": "code",
   "execution_count": 9,
   "id": "9315b8c0-c6c3-4d21-b513-37cd6bb220d5",
   "metadata": {},
   "outputs": [
    {
     "name": "stdout",
     "output_type": "stream",
     "text": [
      "{'neg': 0.078, 'neu': 0.884, 'pos': 0.039, 'compound': -0.4404}\n"
     ]
    }
   ],
   "source": [
    "text = \"After a gentle alien becomes stranded on Earth, the being is discovered and befriended by a young boy named Elliott. Bringing the extraterrestrial into his suburban California house, Elliott introduces E.T., as the alien is dubbed, to his brother and his little sister, Gertie, and the children decide to keep its existence a secret. Soon, however, E.T. falls ill, resulting in government intervention and a dire situation for both Elliott and the alien.\"\n",
    "scores = analyzer.polarity_scores(text)\n",
    "print(scores)"
   ]
  },
  {
   "cell_type": "code",
   "execution_count": 10,
   "id": "4e7260ec-1bdf-4c95-b19e-f6095b361686",
   "metadata": {},
   "outputs": [
    {
     "name": "stdout",
     "output_type": "stream",
     "text": [
      "{'neg': 0.451, 'neu': 0.549, 'pos': 0.0, 'compound': -0.9393}\n"
     ]
    }
   ],
   "source": [
    "text = \"As a young and naive recruit in Vietnam, Chris Taylor faces a moral crisis when confronted with the horrors of war and the duality of man.\"\n",
    "scores = analyzer.polarity_scores(text)\n",
    "print(scores)"
   ]
  },
  {
   "cell_type": "code",
   "execution_count": 11,
   "id": "d29c179f-a17b-4a11-8da8-9dd039654eeb",
   "metadata": {},
   "outputs": [
    {
     "name": "stdout",
     "output_type": "stream",
     "text": [
      "{'neg': 0.083, 'neu': 0.917, 'pos': 0.0, 'compound': -0.5023}\n"
     ]
    }
   ],
   "source": [
    "text = \"Fired from his band and hard up for cash, guitarist and vocalist Dewey Finn finagles his way into a job as a fourth-grade substitute teacher at a private school, where he secretly begins teaching his students the finer points of rock 'n' roll. The school's hard-nosed principal is rightly suspicious of Finn's activities. But Finn's roommate remains in the dark about what he's doing.\"\n",
    "scores = analyzer.polarity_scores(text)\n",
    "print(scores)"
   ]
  },
  {
   "cell_type": "code",
   "execution_count": 4,
   "id": "6d2f83e4-a2d3-4163-a394-cb5dba4536fb",
   "metadata": {},
   "outputs": [
    {
     "name": "stdout",
     "output_type": "stream",
     "text": [
      "Requirement already satisfied: vaderSentiment in /opt/anaconda3/lib/python3.11/site-packages (3.3.2)\n",
      "Requirement already satisfied: requests in /opt/anaconda3/lib/python3.11/site-packages (from vaderSentiment) (2.31.0)\n",
      "Requirement already satisfied: charset-normalizer<4,>=2 in /opt/anaconda3/lib/python3.11/site-packages (from requests->vaderSentiment) (2.0.4)\n",
      "Requirement already satisfied: idna<4,>=2.5 in /opt/anaconda3/lib/python3.11/site-packages (from requests->vaderSentiment) (3.4)\n",
      "Requirement already satisfied: urllib3<3,>=1.21.1 in /opt/anaconda3/lib/python3.11/site-packages (from requests->vaderSentiment) (2.0.7)\n",
      "Requirement already satisfied: certifi>=2017.4.17 in /opt/anaconda3/lib/python3.11/site-packages (from requests->vaderSentiment) (2024.2.2)\n",
      "Note: you may need to restart the kernel to use updated packages.\n"
     ]
    }
   ],
   "source": [
    "pip install vaderSentiment"
   ]
  },
  {
   "cell_type": "code",
   "execution_count": 2,
   "id": "d9d8c29f-a686-4e97-ab3c-d6e36b9918ca",
   "metadata": {},
   "outputs": [],
   "source": [
    "from vaderSentiment.vaderSentiment import SentimentIntensityAnalyzer\n",
    "analyzer = SentimentIntensityAnalyzer()"
   ]
  },
  {
   "cell_type": "code",
   "execution_count": 6,
   "id": "fe348352-3296-4cc4-9492-e139683616b2",
   "metadata": {},
   "outputs": [
    {
     "name": "stdout",
     "output_type": "stream",
     "text": [
      "{'neg': 0.034, 'neu': 0.875, 'pos': 0.091, 'compound': 0.4767}\n"
     ]
    }
   ],
   "source": [
    "vs = analyzer.polarity_scores(\"Led by Woody, Andy's toys live happily in his room until Andy's birthday brings Buzz Lightyear onto the scene. Afraid of losing his place in Andy's heart, Woody plots against Buzz. But when circumstances separate Buzz and Woody from their owner, the duo eventually learns to put aside their differences.\")\n",
    "print(vs)"
   ]
  },
  {
   "cell_type": "code",
   "execution_count": 15,
   "id": "be93e09d-5095-4138-84f6-e68a77d654ee",
   "metadata": {},
   "outputs": [
    {
     "name": "stdout",
     "output_type": "stream",
     "text": [
      "8646 rows\n"
     ]
    }
   ],
   "source": [
    "import pandas as pd\n",
    "\n",
    "file_path = './datasets/movies_metadata_embeddings.csv'\n",
    "df = pd.read_csv(file_path)\n",
    "print(str(len(df)) + ' rows')"
   ]
  },
  {
   "cell_type": "code",
   "execution_count": 16,
   "id": "10470e60-9579-45dd-a4d0-bb5518530690",
   "metadata": {},
   "outputs": [
    {
     "name": "stdout",
     "output_type": "stream",
     "text": [
      "0.5574\n"
     ]
    }
   ],
   "source": [
    "print(get_sentiment_score(\"Led by Woody, Andy's toys live happily in his room until Andy's birthday\"))"
   ]
  },
  {
   "cell_type": "code",
   "execution_count": 18,
   "id": "cdb98e22-9bb2-416d-8aa7-129de7974df9",
   "metadata": {},
   "outputs": [
    {
     "data": {
      "text/html": [
       "<div>\n",
       "<style scoped>\n",
       "    .dataframe tbody tr th:only-of-type {\n",
       "        vertical-align: middle;\n",
       "    }\n",
       "\n",
       "    .dataframe tbody tr th {\n",
       "        vertical-align: top;\n",
       "    }\n",
       "\n",
       "    .dataframe thead th {\n",
       "        text-align: right;\n",
       "    }\n",
       "</style>\n",
       "<table border=\"1\" class=\"dataframe\">\n",
       "  <thead>\n",
       "    <tr style=\"text-align: right;\">\n",
       "      <th></th>\n",
       "      <th>imdb_id</th>\n",
       "      <th>title</th>\n",
       "      <th>summary</th>\n",
       "      <th>date</th>\n",
       "      <th>genres</th>\n",
       "      <th>runtime</th>\n",
       "      <th>rating</th>\n",
       "      <th>votes</th>\n",
       "      <th>budget</th>\n",
       "      <th>revenue</th>\n",
       "      <th>language</th>\n",
       "      <th>production</th>\n",
       "      <th>poster_link</th>\n",
       "      <th>metadata</th>\n",
       "      <th>metadata_vector</th>\n",
       "      <th>sentiment_score</th>\n",
       "    </tr>\n",
       "  </thead>\n",
       "  <tbody>\n",
       "    <tr>\n",
       "      <th>0</th>\n",
       "      <td>114709</td>\n",
       "      <td>Toy Story (1995)</td>\n",
       "      <td>Led by Woody, Andy's toys live happily in his ...</td>\n",
       "      <td>1995-10-30T00:00:00Z</td>\n",
       "      <td>Animation</td>\n",
       "      <td>81</td>\n",
       "      <td>8.3</td>\n",
       "      <td>5415</td>\n",
       "      <td>30000000</td>\n",
       "      <td>373554033</td>\n",
       "      <td>English</td>\n",
       "      <td>Pixar Animation Studios</td>\n",
       "      <td>https://images-na.ssl-images-amazon.com/images...</td>\n",
       "      <td>The title of this film is 'Toy Story (1995)'. ...</td>\n",
       "      <td>[-0.0028483476489782333, 0.02518863044679165, ...</td>\n",
       "      <td>0.4767</td>\n",
       "    </tr>\n",
       "    <tr>\n",
       "      <th>1</th>\n",
       "      <td>113497</td>\n",
       "      <td>Jumanji (1995)</td>\n",
       "      <td>When siblings Judy and Peter discover an encha...</td>\n",
       "      <td>1995-12-15T00:00:00Z</td>\n",
       "      <td>Action</td>\n",
       "      <td>104</td>\n",
       "      <td>6.9</td>\n",
       "      <td>2413</td>\n",
       "      <td>65000000</td>\n",
       "      <td>262797249</td>\n",
       "      <td>English</td>\n",
       "      <td>TriStar Pictures</td>\n",
       "      <td>https://images-na.ssl-images-amazon.com/images...</td>\n",
       "      <td>The title of this film is 'Jumanji (1995)'. Th...</td>\n",
       "      <td>[0.0022412126418203115, 0.09331542998552322, -...</td>\n",
       "      <td>-0.4588</td>\n",
       "    </tr>\n",
       "    <tr>\n",
       "      <th>2</th>\n",
       "      <td>113228</td>\n",
       "      <td>Grumpier Old Men (1995)</td>\n",
       "      <td>A family wedding reignites the ancient feud be...</td>\n",
       "      <td>1995-12-22T00:00:00Z</td>\n",
       "      <td>Comedy</td>\n",
       "      <td>101</td>\n",
       "      <td>6.6</td>\n",
       "      <td>92</td>\n",
       "      <td>0</td>\n",
       "      <td>0</td>\n",
       "      <td>English</td>\n",
       "      <td>Warner Bros.</td>\n",
       "      <td>https://images-na.ssl-images-amazon.com/images...</td>\n",
       "      <td>The title of this film is 'Grumpier Old Men (1...</td>\n",
       "      <td>[-0.03468507528305054, 0.10860838741064072, -0...</td>\n",
       "      <td>-0.2238</td>\n",
       "    </tr>\n",
       "    <tr>\n",
       "      <th>3</th>\n",
       "      <td>113041</td>\n",
       "      <td>Father of the Bride Part II (1995)</td>\n",
       "      <td>Just when George Banks has recovered from his ...</td>\n",
       "      <td>1995-02-10T00:00:00Z</td>\n",
       "      <td>Comedy</td>\n",
       "      <td>106</td>\n",
       "      <td>5.9</td>\n",
       "      <td>173</td>\n",
       "      <td>0</td>\n",
       "      <td>76578911</td>\n",
       "      <td>English</td>\n",
       "      <td>Sandollar Productions</td>\n",
       "      <td>https://images-na.ssl-images-amazon.com/images...</td>\n",
       "      <td>The title of this film is 'Father of the Bride...</td>\n",
       "      <td>[0.010257829912006855, 0.05952616408467293, -0...</td>\n",
       "      <td>0.5023</td>\n",
       "    </tr>\n",
       "    <tr>\n",
       "      <th>4</th>\n",
       "      <td>113277</td>\n",
       "      <td>Heat (1995)</td>\n",
       "      <td>Obsessive master thief, Neil McCauley leads a ...</td>\n",
       "      <td>1995-12-15T00:00:00Z</td>\n",
       "      <td>Action</td>\n",
       "      <td>170</td>\n",
       "      <td>8.2</td>\n",
       "      <td>1886</td>\n",
       "      <td>60000000</td>\n",
       "      <td>187436818</td>\n",
       "      <td>English</td>\n",
       "      <td>Regency Enterprises</td>\n",
       "      <td>https://images-na.ssl-images-amazon.com/images...</td>\n",
       "      <td>The title of this film is 'Heat (1995)'. The s...</td>\n",
       "      <td>[-0.009103664197027683, 0.059764694422483444, ...</td>\n",
       "      <td>-0.8750</td>\n",
       "    </tr>\n",
       "  </tbody>\n",
       "</table>\n",
       "</div>"
      ],
      "text/plain": [
       "   imdb_id                               title  \\\n",
       "0   114709                    Toy Story (1995)   \n",
       "1   113497                      Jumanji (1995)   \n",
       "2   113228             Grumpier Old Men (1995)   \n",
       "3   113041  Father of the Bride Part II (1995)   \n",
       "4   113277                         Heat (1995)   \n",
       "\n",
       "                                             summary                  date  \\\n",
       "0  Led by Woody, Andy's toys live happily in his ...  1995-10-30T00:00:00Z   \n",
       "1  When siblings Judy and Peter discover an encha...  1995-12-15T00:00:00Z   \n",
       "2  A family wedding reignites the ancient feud be...  1995-12-22T00:00:00Z   \n",
       "3  Just when George Banks has recovered from his ...  1995-02-10T00:00:00Z   \n",
       "4  Obsessive master thief, Neil McCauley leads a ...  1995-12-15T00:00:00Z   \n",
       "\n",
       "      genres  runtime  rating  votes    budget    revenue language  \\\n",
       "0  Animation       81     8.3   5415  30000000  373554033  English   \n",
       "1     Action      104     6.9   2413  65000000  262797249  English   \n",
       "2     Comedy      101     6.6     92         0          0  English   \n",
       "3     Comedy      106     5.9    173         0   76578911  English   \n",
       "4     Action      170     8.2   1886  60000000  187436818  English   \n",
       "\n",
       "                production                                        poster_link  \\\n",
       "0  Pixar Animation Studios  https://images-na.ssl-images-amazon.com/images...   \n",
       "1         TriStar Pictures  https://images-na.ssl-images-amazon.com/images...   \n",
       "2             Warner Bros.  https://images-na.ssl-images-amazon.com/images...   \n",
       "3    Sandollar Productions  https://images-na.ssl-images-amazon.com/images...   \n",
       "4      Regency Enterprises  https://images-na.ssl-images-amazon.com/images...   \n",
       "\n",
       "                                            metadata  \\\n",
       "0  The title of this film is 'Toy Story (1995)'. ...   \n",
       "1  The title of this film is 'Jumanji (1995)'. Th...   \n",
       "2  The title of this film is 'Grumpier Old Men (1...   \n",
       "3  The title of this film is 'Father of the Bride...   \n",
       "4  The title of this film is 'Heat (1995)'. The s...   \n",
       "\n",
       "                                     metadata_vector  sentiment_score  \n",
       "0  [-0.0028483476489782333, 0.02518863044679165, ...           0.4767  \n",
       "1  [0.0022412126418203115, 0.09331542998552322, -...          -0.4588  \n",
       "2  [-0.03468507528305054, 0.10860838741064072, -0...          -0.2238  \n",
       "3  [0.010257829912006855, 0.05952616408467293, -0...           0.5023  \n",
       "4  [-0.009103664197027683, 0.059764694422483444, ...          -0.8750  "
      ]
     },
     "execution_count": 18,
     "metadata": {},
     "output_type": "execute_result"
    }
   ],
   "source": [
    "def get_sentiment_score(text):\n",
    "    if isinstance(text, str):  # Check if the text is a string\n",
    "        vs = analyzer.polarity_scores(text)\n",
    "        return vs['compound']\n",
    "    else:\n",
    "        return 0.0\n",
    "\n",
    "df['sentiment_score'] = df['summary'].apply(get_sentiment_score)\n",
    "df.head()"
   ]
  },
  {
   "cell_type": "code",
   "execution_count": 19,
   "id": "1f473189-0e25-4fc4-87ce-339759fa6647",
   "metadata": {},
   "outputs": [],
   "source": [
    "columns = list(df.columns)\n",
    "\n",
    "# Find the index of the 'revenue' column\n",
    "revenue_index = columns.index('revenue')\n",
    "\n",
    "# Move the 'sentiment_score' column next to the 'revenue' column\n",
    "columns.insert(revenue_index + 1, columns.pop(columns.index('sentiment_score')))\n",
    "\n",
    "# Reindex the DataFrame with the new column order\n",
    "df = df.reindex(columns=columns)"
   ]
  },
  {
   "cell_type": "code",
   "execution_count": 20,
   "id": "03056d2a-098e-4a96-8b56-01e8794c2fdc",
   "metadata": {},
   "outputs": [
    {
     "data": {
      "text/html": [
       "<div>\n",
       "<style scoped>\n",
       "    .dataframe tbody tr th:only-of-type {\n",
       "        vertical-align: middle;\n",
       "    }\n",
       "\n",
       "    .dataframe tbody tr th {\n",
       "        vertical-align: top;\n",
       "    }\n",
       "\n",
       "    .dataframe thead th {\n",
       "        text-align: right;\n",
       "    }\n",
       "</style>\n",
       "<table border=\"1\" class=\"dataframe\">\n",
       "  <thead>\n",
       "    <tr style=\"text-align: right;\">\n",
       "      <th></th>\n",
       "      <th>imdb_id</th>\n",
       "      <th>title</th>\n",
       "      <th>summary</th>\n",
       "      <th>date</th>\n",
       "      <th>genres</th>\n",
       "      <th>runtime</th>\n",
       "      <th>rating</th>\n",
       "      <th>votes</th>\n",
       "      <th>budget</th>\n",
       "      <th>revenue</th>\n",
       "      <th>sentiment_score</th>\n",
       "      <th>language</th>\n",
       "      <th>production</th>\n",
       "      <th>poster_link</th>\n",
       "      <th>metadata</th>\n",
       "      <th>metadata_vector</th>\n",
       "    </tr>\n",
       "  </thead>\n",
       "  <tbody>\n",
       "    <tr>\n",
       "      <th>0</th>\n",
       "      <td>114709</td>\n",
       "      <td>Toy Story (1995)</td>\n",
       "      <td>Led by Woody, Andy's toys live happily in his ...</td>\n",
       "      <td>1995-10-30T00:00:00Z</td>\n",
       "      <td>Animation</td>\n",
       "      <td>81</td>\n",
       "      <td>8.3</td>\n",
       "      <td>5415</td>\n",
       "      <td>30000000</td>\n",
       "      <td>373554033</td>\n",
       "      <td>0.4767</td>\n",
       "      <td>English</td>\n",
       "      <td>Pixar Animation Studios</td>\n",
       "      <td>https://images-na.ssl-images-amazon.com/images...</td>\n",
       "      <td>The title of this film is 'Toy Story (1995)'. ...</td>\n",
       "      <td>[-0.0028483476489782333, 0.02518863044679165, ...</td>\n",
       "    </tr>\n",
       "    <tr>\n",
       "      <th>1</th>\n",
       "      <td>113497</td>\n",
       "      <td>Jumanji (1995)</td>\n",
       "      <td>When siblings Judy and Peter discover an encha...</td>\n",
       "      <td>1995-12-15T00:00:00Z</td>\n",
       "      <td>Action</td>\n",
       "      <td>104</td>\n",
       "      <td>6.9</td>\n",
       "      <td>2413</td>\n",
       "      <td>65000000</td>\n",
       "      <td>262797249</td>\n",
       "      <td>-0.4588</td>\n",
       "      <td>English</td>\n",
       "      <td>TriStar Pictures</td>\n",
       "      <td>https://images-na.ssl-images-amazon.com/images...</td>\n",
       "      <td>The title of this film is 'Jumanji (1995)'. Th...</td>\n",
       "      <td>[0.0022412126418203115, 0.09331542998552322, -...</td>\n",
       "    </tr>\n",
       "    <tr>\n",
       "      <th>2</th>\n",
       "      <td>113228</td>\n",
       "      <td>Grumpier Old Men (1995)</td>\n",
       "      <td>A family wedding reignites the ancient feud be...</td>\n",
       "      <td>1995-12-22T00:00:00Z</td>\n",
       "      <td>Comedy</td>\n",
       "      <td>101</td>\n",
       "      <td>6.6</td>\n",
       "      <td>92</td>\n",
       "      <td>0</td>\n",
       "      <td>0</td>\n",
       "      <td>-0.2238</td>\n",
       "      <td>English</td>\n",
       "      <td>Warner Bros.</td>\n",
       "      <td>https://images-na.ssl-images-amazon.com/images...</td>\n",
       "      <td>The title of this film is 'Grumpier Old Men (1...</td>\n",
       "      <td>[-0.03468507528305054, 0.10860838741064072, -0...</td>\n",
       "    </tr>\n",
       "    <tr>\n",
       "      <th>3</th>\n",
       "      <td>113041</td>\n",
       "      <td>Father of the Bride Part II (1995)</td>\n",
       "      <td>Just when George Banks has recovered from his ...</td>\n",
       "      <td>1995-02-10T00:00:00Z</td>\n",
       "      <td>Comedy</td>\n",
       "      <td>106</td>\n",
       "      <td>5.9</td>\n",
       "      <td>173</td>\n",
       "      <td>0</td>\n",
       "      <td>76578911</td>\n",
       "      <td>0.5023</td>\n",
       "      <td>English</td>\n",
       "      <td>Sandollar Productions</td>\n",
       "      <td>https://images-na.ssl-images-amazon.com/images...</td>\n",
       "      <td>The title of this film is 'Father of the Bride...</td>\n",
       "      <td>[0.010257829912006855, 0.05952616408467293, -0...</td>\n",
       "    </tr>\n",
       "    <tr>\n",
       "      <th>4</th>\n",
       "      <td>113277</td>\n",
       "      <td>Heat (1995)</td>\n",
       "      <td>Obsessive master thief, Neil McCauley leads a ...</td>\n",
       "      <td>1995-12-15T00:00:00Z</td>\n",
       "      <td>Action</td>\n",
       "      <td>170</td>\n",
       "      <td>8.2</td>\n",
       "      <td>1886</td>\n",
       "      <td>60000000</td>\n",
       "      <td>187436818</td>\n",
       "      <td>-0.8750</td>\n",
       "      <td>English</td>\n",
       "      <td>Regency Enterprises</td>\n",
       "      <td>https://images-na.ssl-images-amazon.com/images...</td>\n",
       "      <td>The title of this film is 'Heat (1995)'. The s...</td>\n",
       "      <td>[-0.009103664197027683, 0.059764694422483444, ...</td>\n",
       "    </tr>\n",
       "  </tbody>\n",
       "</table>\n",
       "</div>"
      ],
      "text/plain": [
       "   imdb_id                               title  \\\n",
       "0   114709                    Toy Story (1995)   \n",
       "1   113497                      Jumanji (1995)   \n",
       "2   113228             Grumpier Old Men (1995)   \n",
       "3   113041  Father of the Bride Part II (1995)   \n",
       "4   113277                         Heat (1995)   \n",
       "\n",
       "                                             summary                  date  \\\n",
       "0  Led by Woody, Andy's toys live happily in his ...  1995-10-30T00:00:00Z   \n",
       "1  When siblings Judy and Peter discover an encha...  1995-12-15T00:00:00Z   \n",
       "2  A family wedding reignites the ancient feud be...  1995-12-22T00:00:00Z   \n",
       "3  Just when George Banks has recovered from his ...  1995-02-10T00:00:00Z   \n",
       "4  Obsessive master thief, Neil McCauley leads a ...  1995-12-15T00:00:00Z   \n",
       "\n",
       "      genres  runtime  rating  votes    budget    revenue  sentiment_score  \\\n",
       "0  Animation       81     8.3   5415  30000000  373554033           0.4767   \n",
       "1     Action      104     6.9   2413  65000000  262797249          -0.4588   \n",
       "2     Comedy      101     6.6     92         0          0          -0.2238   \n",
       "3     Comedy      106     5.9    173         0   76578911           0.5023   \n",
       "4     Action      170     8.2   1886  60000000  187436818          -0.8750   \n",
       "\n",
       "  language               production  \\\n",
       "0  English  Pixar Animation Studios   \n",
       "1  English         TriStar Pictures   \n",
       "2  English             Warner Bros.   \n",
       "3  English    Sandollar Productions   \n",
       "4  English      Regency Enterprises   \n",
       "\n",
       "                                         poster_link  \\\n",
       "0  https://images-na.ssl-images-amazon.com/images...   \n",
       "1  https://images-na.ssl-images-amazon.com/images...   \n",
       "2  https://images-na.ssl-images-amazon.com/images...   \n",
       "3  https://images-na.ssl-images-amazon.com/images...   \n",
       "4  https://images-na.ssl-images-amazon.com/images...   \n",
       "\n",
       "                                            metadata  \\\n",
       "0  The title of this film is 'Toy Story (1995)'. ...   \n",
       "1  The title of this film is 'Jumanji (1995)'. Th...   \n",
       "2  The title of this film is 'Grumpier Old Men (1...   \n",
       "3  The title of this film is 'Father of the Bride...   \n",
       "4  The title of this film is 'Heat (1995)'. The s...   \n",
       "\n",
       "                                     metadata_vector  \n",
       "0  [-0.0028483476489782333, 0.02518863044679165, ...  \n",
       "1  [0.0022412126418203115, 0.09331542998552322, -...  \n",
       "2  [-0.03468507528305054, 0.10860838741064072, -0...  \n",
       "3  [0.010257829912006855, 0.05952616408467293, -0...  \n",
       "4  [-0.009103664197027683, 0.059764694422483444, ...  "
      ]
     },
     "execution_count": 20,
     "metadata": {},
     "output_type": "execute_result"
    }
   ],
   "source": [
    "df.head()"
   ]
  },
  {
   "cell_type": "code",
   "execution_count": 21,
   "id": "4fa7a8a4-d14e-4841-adc8-f40820dbf6c9",
   "metadata": {},
   "outputs": [],
   "source": [
    "df.to_csv('./datasets/movies_with_sentiment_and_embedding.csv', index=False)"
   ]
  },
  {
   "cell_type": "code",
   "execution_count": null,
   "id": "cf32648a-a188-4a76-839a-44fef502184a",
   "metadata": {},
   "outputs": [],
   "source": []
  }
 ],
 "metadata": {
  "kernelspec": {
   "display_name": "Python 3 (ipykernel)",
   "language": "python",
   "name": "python3"
  },
  "language_info": {
   "codemirror_mode": {
    "name": "ipython",
    "version": 3
   },
   "file_extension": ".py",
   "mimetype": "text/x-python",
   "name": "python",
   "nbconvert_exporter": "python",
   "pygments_lexer": "ipython3",
   "version": "3.11.7"
  }
 },
 "nbformat": 4,
 "nbformat_minor": 5
}
