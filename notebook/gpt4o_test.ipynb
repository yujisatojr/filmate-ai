{
 "cells": [
  {
   "cell_type": "code",
   "execution_count": 12,
   "id": "3906427a-f6f8-4028-9a97-da943c63542d",
   "metadata": {},
   "outputs": [],
   "source": [
    "from dotenv import load_dotenv, find_dotenv\n",
    "import json\n",
    "from openai import OpenAI\n",
    "import openai\n",
    "import os\n",
    "from groq import Groq\n",
    "\n",
    "load_dotenv(find_dotenv())\n",
    "\n",
    "# client = Groq(\n",
    "#     api_key=os.getenv('GROQ_API_KEY'),\n",
    "# )\n",
    "\n",
    "client = OpenAI(\n",
    "    api_key=os.getenv('OPENAI_API_KEY'),\n",
    ")\n",
    "\n",
    "# llm_model_name=\"mixtral-8x7b-32768\"\n",
    "llm_model_name=\"gpt-4o\""
   ]
  },
  {
   "cell_type": "code",
   "execution_count": 13,
   "id": "db3c1ba2-b2b6-4149-9f87-bdaa172a04ca",
   "metadata": {},
   "outputs": [],
   "source": [
    "def get_streaming_services(movie_title):\n",
    "\n",
    "    prompt_template = f\"\"\"\n",
    "        Your task is to provide a list of streaming services (Netflix, Hulu, Prime Video, etc.) that currently streams this movie title for free, excluding purchase or rental : {movie_title} by strictly following the below example JSON format.\n",
    "        The JSON output needs to be correctly formatted and is valid.\n",
    "        If there are no providers available, leave the providers list with an empty string.\n",
    "        {{\n",
    "            \"providers\": ['', '', ...],\n",
    "        }}\n",
    "    \"\"\"\n",
    "\n",
    "    messages = [{\n",
    "            \"role\": \"system\",\n",
    "            \"content\": \"Please generate output in the correct and valid JSON format exclusively, avoiding any additional text or explanations.\",\n",
    "        },\n",
    "        {\n",
    "            \"role\": \"user\",\n",
    "            \"content\": prompt_template\n",
    "        }\n",
    "    ]\n",
    "\n",
    "    stream = client.chat.completions.create(\n",
    "        model=llm_model_name,\n",
    "        messages=messages,\n",
    "        max_tokens=250,\n",
    "        temperature=0.5,\n",
    "        frequency_penalty=0,\n",
    "        presence_penalty=0,\n",
    "        response_format={ \"type\": \"json_object\" }\n",
    "    )\n",
    "    return json.loads(stream.choices[0].message.content)"
   ]
  },
  {
   "cell_type": "code",
   "execution_count": 16,
   "id": "b0b0c4a7-2c5f-49b2-acb2-305949cb7d77",
   "metadata": {},
   "outputs": [
    {
     "name": "stdout",
     "output_type": "stream",
     "text": [
      "{'providers': []}\n"
     ]
    }
   ],
   "source": [
    "title = 'Dune'\n",
    "result = get_streaming_services(title)\n",
    "\n",
    "print(result)"
   ]
  },
  {
   "cell_type": "code",
   "execution_count": null,
   "id": "915cb8d4-5981-4927-ae74-5ef76fa1237e",
   "metadata": {},
   "outputs": [],
   "source": []
  }
 ],
 "metadata": {
  "kernelspec": {
   "display_name": "Python 3 (ipykernel)",
   "language": "python",
   "name": "python3"
  },
  "language_info": {
   "codemirror_mode": {
    "name": "ipython",
    "version": 3
   },
   "file_extension": ".py",
   "mimetype": "text/x-python",
   "name": "python",
   "nbconvert_exporter": "python",
   "pygments_lexer": "ipython3",
   "version": "3.11.7"
  }
 },
 "nbformat": 4,
 "nbformat_minor": 5
}
