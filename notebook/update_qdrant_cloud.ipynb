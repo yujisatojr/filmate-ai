{
 "cells": [
  {
   "cell_type": "code",
   "execution_count": 1,
   "id": "ff8f1d56-767d-4cae-afac-afa3cb8902b0",
   "metadata": {},
   "outputs": [
    {
     "name": "stdout",
     "output_type": "stream",
     "text": [
      "8646 rows\n"
     ]
    }
   ],
   "source": [
    "import pandas as pd\n",
    "import os\n",
    "from openai import OpenAI\n",
    "import openai\n",
    "from dotenv import load_dotenv, find_dotenv\n",
    "from qdrant_client import models, QdrantClient\n",
    "from qdrant_client.http import models as rest\n",
    "from qdrant_client.http.models import Record\n",
    "from sentence_transformers import SentenceTransformer\n",
    "\n",
    "load_dotenv(find_dotenv())\n",
    "client = OpenAI(\n",
    "    api_key=os.getenv('OPENAI_API_KEY'),\n",
    ")\n",
    "\n",
    "# Read the CSV dataset\n",
    "file_path = './datasets/movies_with_sentiment_and_embedding.csv'\n",
    "df = pd.read_csv(file_path) # Add .head(100) if you want to limit the number of rows\n",
    "\n",
    "df = df.fillna('')\n",
    "\n",
    "print(str(len(df)) + ' rows')"
   ]
  },
  {
   "cell_type": "code",
   "execution_count": 2,
   "id": "8817c302-a78f-4559-8ea6-dbf4d47b41d9",
   "metadata": {},
   "outputs": [],
   "source": [
    "# qdrant_client = QdrantClient(':memory:') # Uncomment this for testing locally\n",
    "\n",
    "# Connect to the cloud version of the Qdrant client\n",
    "qdrant_client = QdrantClient(\n",
    "    url=os.getenv('QDRANT_URL'),\n",
    "    api_key=os.getenv('QDRANT_API_KEY'),\n",
    ")"
   ]
  },
  {
   "cell_type": "code",
   "execution_count": 3,
   "id": "b9002e34-9e34-4680-8d11-48faae17a143",
   "metadata": {},
   "outputs": [
    {
     "name": "stdout",
     "output_type": "stream",
     "text": [
      "Payload & vector length for all points: 21308659\n",
      "collections=[CollectionDescription(name='movies')]\n"
     ]
    },
    {
     "data": {
      "text/plain": [
       "CountResult(count=8646)"
      ]
     },
     "execution_count": 3,
     "metadata": {},
     "output_type": "execute_result"
    }
   ],
   "source": [
    "import ast\n",
    "\n",
    "# Set the collection name and size\n",
    "collection_name = 'movies'\n",
    "vector_size = len(ast.literal_eval(df['metadata_vector'][0]))  # Convert string to list and get its length\n",
    "\n",
    "# Create a collection\n",
    "qdrant_client.recreate_collection(\n",
    "    collection_name=collection_name,\n",
    "    vectors_config={\n",
    "        'metadata': rest.VectorParams(\n",
    "            distance=rest.Distance.COSINE,\n",
    "            size=vector_size,\n",
    "        ),\n",
    "    }\n",
    ")\n",
    "\n",
    "# Calculate the length of payload that is being inserted into the Qdrant collection\n",
    "def calculate_payload_length(payload):\n",
    "    total_length = 0\n",
    "    for value in payload.values():\n",
    "        if isinstance(value, str):\n",
    "            total_length += len(value)\n",
    "        elif isinstance(value, list):\n",
    "            for item in value:\n",
    "                total_length += len(str(item))\n",
    "        elif isinstance(value, dict):\n",
    "            total_length += calculate_payload_length(value)\n",
    "        else:\n",
    "            total_length += len(str(value))\n",
    "    return total_length\n",
    "\n",
    "# Add vectors to the collection\n",
    "request_length = 0\n",
    "\n",
    "for k, v in df.iterrows():\n",
    "    # Remove the 'metadata_vector' key from the dictionary to reduce the payload length\n",
    "    result_dict = v.to_dict()\n",
    "    if 'metadata_vector' in result_dict:\n",
    "        del result_dict['metadata_vector']\n",
    "\n",
    "    payload_length = calculate_payload_length(result_dict)\n",
    "    vector_length = len(ast.literal_eval(v['metadata_vector']))\n",
    "    total_length = payload_length + vector_length\n",
    "    # print(f\"Payload length for point {k}: {total_length}\")\n",
    "\n",
    "    request_length = request_length + total_length\n",
    "    \n",
    "    qdrant_client.upsert(\n",
    "        collection_name=collection_name,\n",
    "        points=[\n",
    "            rest.PointStruct(\n",
    "                id=k,\n",
    "                vector={\n",
    "                    'metadata': ast.literal_eval(v['metadata_vector']),  # Convert string to list\n",
    "                },\n",
    "                payload=result_dict,\n",
    "            )\n",
    "        ]\n",
    "    )\n",
    "\n",
    "print(f\"Payload & vector length for all points: {request_length}\")\n",
    "\n",
    "print(qdrant_client.get_collections())\n",
    "qdrant_client.count(collection_name=collection_name)"
   ]
  },
  {
   "cell_type": "code",
   "execution_count": 4,
   "id": "89e1d639-6946-4e0e-9bfd-0365d21da4d7",
   "metadata": {},
   "outputs": [],
   "source": [
    "# Generate a query embedding and search in Qdrant\n",
    "def query_qdrant(query, collection_name, vector_name, top_k=5):\n",
    "    # Creates embedding vector from user query\n",
    "    completion = openai.embeddings.create(\n",
    "        input=query,\n",
    "        model='text-embedding-3-small'  # Be sure to use the same embedding model as the vectors in the collection\n",
    "    )\n",
    "\n",
    "    embedded_query = completion.data[0].embedding\n",
    "\n",
    "    query_results = qdrant_client.search(\n",
    "        collection_name=collection_name,\n",
    "        query_vector=(\n",
    "            vector_name, embedded_query\n",
    "        ),\n",
    "        limit=top_k,\n",
    "    )\n",
    "    \n",
    "    return query_results"
   ]
  },
  {
   "cell_type": "code",
   "execution_count": 5,
   "id": "fdfc8de9-f21e-41cc-8a85-cab6e2bfdd03",
   "metadata": {},
   "outputs": [
    {
     "name": "stdout",
     "output_type": "stream",
     "text": [
      "1. Falling in Love (1984) https://images-na.ssl-images-amazon.com/images/M/MV5BYmUxNDMyOGQtNTQ1MS00NzhiLWE5ZDUtZGFmMDcyODVmYzU5XkEyXkFqcGdeQXVyMTA0MjU0Ng@@._V1_UX182_CR0,0,182,268_AL_.jpg (Score: 0.547)\n",
      "2. Two Lovers (2008) https://images-na.ssl-images-amazon.com/images/M/MV5BMTIzNzIzMzc2Ml5BMl5BanBnXkFtZTcwNDE2MjAyMg@@._V1_UX182_CR0,0,182,268_AL_.jpg (Score: 0.542)\n",
      "3. Bandits (2001) https://images-na.ssl-images-amazon.com/images/M/MV5BMTkyMzA3OTI3NV5BMl5BanBnXkFtZTYwMjU0ODM3._V1_UX182_CR0,0,182,268_AL_.jpg (Score: 0.495)\n",
      "4. Down with Love (2003) https://images-na.ssl-images-amazon.com/images/M/MV5BYjY0OTMyNmMtODEwZS00ZWJiLWI0ZjctNmNiNmJjMTMzYWM1XkEyXkFqcGdeQXVyMTQxNzMzNDI@._V1_UX182_CR0,0,182,268_AL_.jpg (Score: 0.481)\n",
      "5. Freier Fall (2013) https://images-na.ssl-images-amazon.com/images/M/MV5BMTc3MjgwNTEzNV5BMl5BanBnXkFtZTcwNTM5MzY5OQ@@._V1_UY268_CR3,0,182,268_AL_.jpg (Score: 0.478)\n"
     ]
    }
   ],
   "source": [
    "# Search for similar vectors and store a result\n",
    "query_results = query_qdrant('movie about two people fall in love', collection_name=collection_name, vector_name='metadata')\n",
    "\n",
    "for i, vector in enumerate(query_results):\n",
    "    print(f\"{i + 1}. {vector.payload['title']} {vector.payload['poster_link']} (Score: {round(vector.score, 3)})\")"
   ]
  },
  {
   "cell_type": "code",
   "execution_count": null,
   "id": "83a5c793-4eb0-42bd-a011-7c5bd8f62e61",
   "metadata": {},
   "outputs": [],
   "source": []
  }
 ],
 "metadata": {
  "kernelspec": {
   "display_name": "Python 3 (ipykernel)",
   "language": "python",
   "name": "python3"
  },
  "language_info": {
   "codemirror_mode": {
    "name": "ipython",
    "version": 3
   },
   "file_extension": ".py",
   "mimetype": "text/x-python",
   "name": "python",
   "nbconvert_exporter": "python",
   "pygments_lexer": "ipython3",
   "version": "3.11.7"
  }
 },
 "nbformat": 4,
 "nbformat_minor": 5
}
